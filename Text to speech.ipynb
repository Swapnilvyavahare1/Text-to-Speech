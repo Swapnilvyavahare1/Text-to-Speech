{
 "cells": [
  {
   "cell_type": "code",
   "execution_count": 1,
   "id": "0b05b441",
   "metadata": {},
   "outputs": [
    {
     "data": {
      "text/plain": [
       "'C:\\\\Users\\\\DELL 2\\\\Class_May_27_Weekday_Python\\\\Deep learning\\\\10 Mar\\\\Text to speech'"
      ]
     },
     "execution_count": 1,
     "metadata": {},
     "output_type": "execute_result"
    }
   ],
   "source": [
    "import os\n",
    "os.getcwd()"
   ]
  },
  {
   "cell_type": "code",
   "execution_count": 7,
   "id": "045631a9",
   "metadata": {},
   "outputs": [
    {
     "name": "stdout",
     "output_type": "stream",
     "text": [
      "Defaulting to user installation because normal site-packages is not writeable\n",
      "Requirement already satisfied: gTTs in c:\\users\\dell 2\\appdata\\roaming\\python\\python39\\site-packages (2.2.4)\n",
      "Requirement already satisfied: requests in c:\\anaconda\\lib\\site-packages (from gTTs) (2.27.1)\n",
      "Requirement already satisfied: click in c:\\anaconda\\lib\\site-packages (from gTTs) (8.0.4)\n",
      "Requirement already satisfied: six in c:\\anaconda\\lib\\site-packages (from gTTs) (1.16.0)\n",
      "Requirement already satisfied: colorama in c:\\anaconda\\lib\\site-packages (from click->gTTs) (0.4.4)\n",
      "Requirement already satisfied: certifi>=2017.4.17 in c:\\anaconda\\lib\\site-packages (from requests->gTTs) (2021.10.8)\n",
      "Requirement already satisfied: idna<4,>=2.5 in c:\\anaconda\\lib\\site-packages (from requests->gTTs) (3.3)\n",
      "Requirement already satisfied: urllib3<1.27,>=1.21.1 in c:\\anaconda\\lib\\site-packages (from requests->gTTs) (1.26.9)\n",
      "Requirement already satisfied: charset-normalizer~=2.0.0 in c:\\anaconda\\lib\\site-packages (from requests->gTTs) (2.0.4)\n"
     ]
    }
   ],
   "source": [
    "!pip install gTTs\n",
    "# gTTs- Google text to speech"
   ]
  },
  {
   "cell_type": "code",
   "execution_count": 9,
   "id": "fe4ef6b3",
   "metadata": {},
   "outputs": [],
   "source": [
    "from gtts import gTTS"
   ]
  },
  {
   "cell_type": "code",
   "execution_count": 10,
   "id": "ffb3bb44",
   "metadata": {},
   "outputs": [
    {
     "name": "stdout",
     "output_type": "stream",
     "text": [
      "Enter your sentence here:Our beloved 90s hero is still alive and well at the age of 57, and PATHAAN is his devastating comeback that literally ignites fireworks in theatres from the sides of his fans and admirers who have never let him down. Cinema can be a celebration, a festival that welcomes a greater force in art to turn back in the face of every trend of hatreds, giving us, SRKians, every reason to celebrate and roar for his return in temporary affirmation that confirms he's In 2023, Shahrukh Khan has experienced a fantastic comeback. In order to retake his position as the ruler of Bollywood, the BADSHAH is returned. His acting talent is unmatched. For this one-of-a-kind masterpiece, Shahrukh Khan has made the four years of waiting worthwhile. All of his admirers who were hoping to see him in a feature-length movie on the big screen are astonished by him. Also, he has responded to everyone who tried to discredit him before to the film's premiere. A spectator should keep an eye out for it since it offers the proper amount of action, adventure, drama, and thriller. It's a \"Blockbuster,\" a stylish, polished, and action-packed movie all in one. A compelling plot, action, thrills, and suspense are all present in the movie. After a protracted absence, SRK has pleased his followers and made them happy. DeepikaP looks great and performs some movements in the movie in addition to showcasing her beauty. John Abraham appears good in his negative character. All of the battle scenes and chases are beautifully envisioned and really gripping. Full points also go to the CGI and VFX for it. The spy thriller offers far more than what we have seen in the teaser and broadens the spy universe created by YRF. The actions are top-notch and unquestionably up to Hollywood standards. Dimple Kapadia and Ashutosh Rana play important roles in the movie as well. It's a family movie without any controversial content, but it will instead stoke the audience's sense of patriotism. The film is successful not just because of SRK; it's a total showbiz package with fantastic work from the lead trio.  The plot of this gripping story revolves around Jim (John A.), the leader of Outfit X, a private terrorist organisation that aims to exact revenge on India. At a scientific meeting in Dubai, they have malicious plans to harm the president of India. However, A fearless RAW agent named Pathaan works valiantly to thwart Jim's schemes. From this point on, the cat and mouse game begins; they travel to other nations as their animosity endures. There are chase scenes with motorcycles, trains, planes, helicopters, ice skaters, trucks, cars, and other vehicles. But I assure you that they are all genuinely fascinating, pleasant, and captivating.  The movie is healthy entertainment since it features action, patriotism, mild humour, a memorable Salman Khan cameo, and most all, Shahrukh Khan's star power. Like his last several films, Siddharth Anand's story is compelling, and his direction is equally effective in this one. Characters are well-written, and conversation is appropriate. Only 2 songs in the movie, however the BGM is powerful. The fast-paced screenplay makes sure that there are never any dull moments, even for a brief period of time, and the action-packed sequences continue throughout the entire movie. It appears that \"Pathaan\" has revived Bollywood! I have truly enjoyed the movie and plan to watch it again. Overall, I give it a score of 4.5 out of 5 (), making it a Must See.   Twist at the intermission was what I liked the most.\n"
     ]
    }
   ],
   "source": [
    "my_setense= input('Enter your sentence here:')"
   ]
  },
  {
   "cell_type": "code",
   "execution_count": 12,
   "id": "74bad4a2",
   "metadata": {},
   "outputs": [],
   "source": [
    "sentence= gTTS(text= my_setense, lang= 'en', slow= False)"
   ]
  },
  {
   "cell_type": "code",
   "execution_count": 13,
   "id": "175cf566",
   "metadata": {},
   "outputs": [],
   "source": [
    "sentence.save('English.mp3')"
   ]
  },
  {
   "cell_type": "code",
   "execution_count": 14,
   "id": "1ba05524",
   "metadata": {
    "scrolled": true
   },
   "outputs": [
    {
     "name": "stdout",
     "output_type": "stream",
     "text": [
      "Enter your sentence here:कानून के जानकारों की माने तो इन दोषियों की रिहाई और सजा में कमी को लेकर केंद्र सरकार कोई कदम नहीं उठा सकती है। ऐसा इसलिए, क्योंकि राज्य ही जेल मैन्युअल बनाती है। जानकारों का कहना है कि केंद्र सिर्फ रिहाई पर रोक की सलाह दे सकता है।\n"
     ]
    }
   ],
   "source": [
    "my_setense1= input('Enter your sentence here:')"
   ]
  },
  {
   "cell_type": "code",
   "execution_count": 16,
   "id": "cf99d3a7",
   "metadata": {},
   "outputs": [],
   "source": [
    "sentence1= gTTS(text= my_setense1, lang= 'hi', slow= False)"
   ]
  },
  {
   "cell_type": "code",
   "execution_count": 17,
   "id": "cd35358f",
   "metadata": {},
   "outputs": [],
   "source": [
    "sentence1.save('Hindi.mp3')"
   ]
  }
 ],
 "metadata": {
  "kernelspec": {
   "display_name": "Python 3 (ipykernel)",
   "language": "python",
   "name": "python3"
  },
  "language_info": {
   "codemirror_mode": {
    "name": "ipython",
    "version": 3
   },
   "file_extension": ".py",
   "mimetype": "text/x-python",
   "name": "python",
   "nbconvert_exporter": "python",
   "pygments_lexer": "ipython3",
   "version": "3.9.12"
  }
 },
 "nbformat": 4,
 "nbformat_minor": 5
}
